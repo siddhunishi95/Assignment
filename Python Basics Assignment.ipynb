{
 "cells": [
  {
   "cell_type": "markdown",
   "id": "cc34c4d5",
   "metadata": {},
   "source": [
    "# TOPIC: Python Basics Variable\n"
   ]
  },
  {
   "cell_type": "code",
   "execution_count": 1,
   "id": "5ebb5e54",
   "metadata": {},
   "outputs": [
    {
     "name": "stdout",
     "output_type": "stream",
     "text": [
      "After swapping:\n",
      "x = 10\n",
      "y = 5\n"
     ]
    }
   ],
   "source": [
    "#QUE :- 1\n",
    "x = 5\n",
    "y = 10\n",
    "\n",
    "x, y = y, x\n",
    "\n",
    "print(\"After swapping:\")\n",
    "print(\"x =\", x)\n",
    "print(\"y =\", y)"
   ]
  },
  {
   "cell_type": "code",
   "execution_count": 2,
   "id": "0fb8e436",
   "metadata": {},
   "outputs": [
    {
     "name": "stdout",
     "output_type": "stream",
     "text": [
      "Enter the length of the rectangle: 9\n",
      "Enter the width of the rectangle: 4.5\n",
      "The area of the rectangle is: 40.5\n"
     ]
    }
   ],
   "source": [
    "#QUE :- 2\n",
    "# Input the length and width from the user\n",
    "length = float(input(\"Enter the length of the rectangle: \"))\n",
    "width = float(input(\"Enter the width of the rectangle: \"))\n",
    "\n",
    "# Calculate the area of the rectangle\n",
    "area = length * width\n",
    "print(\"The area of the rectangle is:\", area)"
   ]
  },
  {
   "cell_type": "code",
   "execution_count": 3,
   "id": "eb7ac23a",
   "metadata": {},
   "outputs": [
    {
     "name": "stdout",
     "output_type": "stream",
     "text": [
      "Enter the temperature in Celsius: 97\n",
      "Temperature in Fahrenheit: 206.6\n"
     ]
    }
   ],
   "source": [
    "#QUE :- 3\n",
    "# Input the temperature in Celsius from the user\n",
    "celsius = float(input(\"Enter the temperature in Celsius: \"))\n",
    "\n",
    "# Convert Celsius to Fahrenheit\n",
    "fahrenheit = (celsius * 9/5) + 32\n",
    "print(\"Temperature in Fahrenheit:\", fahrenheit)"
   ]
  },
  {
   "cell_type": "markdown",
   "id": "d8c3a659",
   "metadata": {},
   "source": [
    "# TOPIC: String Based Questions\n"
   ]
  },
  {
   "cell_type": "code",
   "execution_count": 4,
   "id": "da60e094",
   "metadata": {},
   "outputs": [
    {
     "name": "stdout",
     "output_type": "stream",
     "text": [
      "Enter a string: hello world\n",
      "Length of the string is: 11\n"
     ]
    }
   ],
   "source": [
    "#QUE :- 1\n",
    "# Input a string from the user\n",
    "input_string = input(\"Enter a string: \")\n",
    "\n",
    "# Calculate and print the length of the string\n",
    "length = len(input_string)\n",
    "print(\"Length of the string is:\", length)\n"
   ]
  },
  {
   "cell_type": "code",
   "execution_count": 6,
   "id": "6adc6de9",
   "metadata": {},
   "outputs": [
    {
     "name": "stdout",
     "output_type": "stream",
     "text": [
      "Enter a sentence: hello world\n",
      "3\n"
     ]
    }
   ],
   "source": [
    "#QUE :- 2\n",
    "\n",
    "# Input a sentence from the user\n",
    "sentence = input(\"Enter a sentence: \")\n",
    "vowels = \"aeiouAEIOU\"\n",
    " \n",
    "count = sum(sentence.count(vowel) for vowel in vowels)\n",
    "print(count)"
   ]
  },
  {
   "cell_type": "code",
   "execution_count": 7,
   "id": "f8925b16",
   "metadata": {},
   "outputs": [
    {
     "name": "stdout",
     "output_type": "stream",
     "text": [
      "Enter a string: world\n",
      "Reversed string: dlrow\n"
     ]
    }
   ],
   "source": [
    "#QUE :- 3\n",
    "\n",
    "# Input a string from the user\n",
    "input_string = input(\"Enter a string: \")\n",
    "\n",
    "# Reverse the string using slicing\n",
    "reversed_string = input_string[::-1]\n",
    "print(\"Reversed string:\", reversed_string)"
   ]
  },
  {
   "cell_type": "code",
   "execution_count": 8,
   "id": "0513405a",
   "metadata": {},
   "outputs": [
    {
     "name": "stdout",
     "output_type": "stream",
     "text": [
      "Enter a string: madam\n",
      "The input string is a palindrome.\n"
     ]
    }
   ],
   "source": [
    "#QUE:-4\n",
    "\n",
    "# Input a string from the user\n",
    "input_string = input(\"Enter a string: \")\n",
    "\n",
    "# Remove spaces and convert to lowercase for case-insensitive comparison\n",
    "cleaned_string = input_string.replace(\" \", \"\").lower()\n",
    "\n",
    "# Reverse the cleaned string\n",
    "reversed_string = cleaned_string[::-1]\n",
    "\n",
    "# Check if the original string and reversed string are the same\n",
    "if cleaned_string == reversed_string:\n",
    "    print(\"The input string is a palindrome.\")\n",
    "else:\n",
    "    print(\"The input string is not a palindrome.\")"
   ]
  },
  {
   "cell_type": "code",
   "execution_count": 9,
   "id": "dd68c819",
   "metadata": {},
   "outputs": [
    {
     "name": "stdout",
     "output_type": "stream",
     "text": [
      "Enter a string:     hello\n",
      "Modified string without spaces: hello\n"
     ]
    }
   ],
   "source": [
    "#QUE:-5\n",
    "\n",
    "# Input a string from the user\n",
    "input_string = input(\"Enter a string: \")\n",
    "\n",
    "# Remove spaces from the input string\n",
    "modified_string = input_string.replace(\" \", \"\")\n",
    "print(\"Modified string without spaces:\", modified_string)"
   ]
  },
  {
   "cell_type": "code",
   "execution_count": null,
   "id": "2bd74e78",
   "metadata": {},
   "outputs": [],
   "source": []
  },
  {
   "cell_type": "code",
   "execution_count": null,
   "id": "0a4546dc",
   "metadata": {},
   "outputs": [],
   "source": []
  }
 ],
 "metadata": {
  "kernelspec": {
   "display_name": "Python 3 (ipykernel)",
   "language": "python",
   "name": "python3"
  },
  "language_info": {
   "codemirror_mode": {
    "name": "ipython",
    "version": 3
   },
   "file_extension": ".py",
   "mimetype": "text/x-python",
   "name": "python",
   "nbconvert_exporter": "python",
   "pygments_lexer": "ipython3",
   "version": "3.9.7"
  }
 },
 "nbformat": 4,
 "nbformat_minor": 5
}
