{
 "cells": [
  {
   "cell_type": "markdown",
   "id": "dfd48bf9",
   "metadata": {},
   "source": [
    "### 1. What is a Python library? Why do we use Python libraries?\n",
    "\n",
    "\n",
    "Ans. Python Library is a collection of functions and methods that can be used repeatedly in different programs.\n",
    "It makes python programming simple and convenient for the programmer as we do not need to write same code again and again."
   ]
  },
  {
   "cell_type": "markdown",
   "id": "32fdff0a",
   "metadata": {},
   "source": [
    "### 2. What is the difference between Numpy array and List?\n",
    "\n",
    "Ans. Numpy array is a collection of homogenous data \n",
    "     Numpy list is a data structure that can store hetrogenous data "
   ]
  },
  {
   "cell_type": "code",
   "execution_count": 1,
   "id": "8924f5b6",
   "metadata": {},
   "outputs": [
    {
     "name": "stdout",
     "output_type": "stream",
     "text": [
      "Shape of the array: (3, 4)\n",
      "Size of the array: 12\n",
      "Number of dimensions of the array: 2\n"
     ]
    }
   ],
   "source": [
    "##3.  Find the shape, size and dimension of the following array?\n",
    "\n",
    "import numpy as np\n",
    "a= np.array([[1,2,3,4],\n",
    "            [5,6,7,8],\n",
    "            [9,10,11,12]])\n",
    "\n",
    "shape = a.shape \n",
    "size = a.size   \n",
    "dimensions = a.ndim\n",
    "\n",
    "print(\"Shape of the array:\", shape)\n",
    "print(\"Size of the array:\", size)\n",
    "print(\"Number of dimensions of the array:\", dimensions)"
   ]
  },
  {
   "cell_type": "code",
   "execution_count": 2,
   "id": "874fc998",
   "metadata": {},
   "outputs": [
    {
     "name": "stdout",
     "output_type": "stream",
     "text": [
      "First row of the array: [1 2 3 4]\n"
     ]
    }
   ],
   "source": [
    "##4. Write python code to access the first row of the following array?\n",
    "\n",
    "a = np.array([[1, 2, 3, 4],\n",
    "              [5, 6, 7, 8],\n",
    "              [9, 10, 11, 12]])\n",
    "\n",
    "first_row = a[0]\n",
    "\n",
    "print(\"First row of the array:\", first_row)\n"
   ]
  },
  {
   "cell_type": "code",
   "execution_count": 3,
   "id": "d38dc725",
   "metadata": {},
   "outputs": [
    {
     "name": "stdout",
     "output_type": "stream",
     "text": [
      "Element at the third row and fourth column: 12\n"
     ]
    }
   ],
   "source": [
    "#5. How do you access the element at the third row and fourth column from the given numpy array?\n",
    "\n",
    "a = np.array([[1, 2, 3, 4],\n",
    "              [5, 6, 7, 8],\n",
    "              [9, 10, 11, 12]])\n",
    "\n",
    "element = a[2, 3]\n",
    "\n",
    "print(\"Element at the third row and fourth column:\", element)"
   ]
  },
  {
   "cell_type": "code",
   "execution_count": 4,
   "id": "0345bab0",
   "metadata": {},
   "outputs": [
    {
     "name": "stdout",
     "output_type": "stream",
     "text": [
      "Odd-indexed elements from the array:\n",
      "[ 2  4  6  8 10 12]\n"
     ]
    }
   ],
   "source": [
    "#6. Write code to extract all odd-indexed elements from the given numpy array?\n",
    "\n",
    "a = np.array([[1, 2, 3, 4],\n",
    "              [5, 6, 7, 8],\n",
    "              [9, 10, 11, 12]])\n",
    "\n",
    "flattened_a = a.flatten()\n",
    "\n",
    "odd_indexed_elements = flattened_a[1::2]\n",
    "\n",
    "print(\"Odd-indexed elements from the array:\")\n",
    "print(odd_indexed_elements)"
   ]
  },
  {
   "cell_type": "code",
   "execution_count": 5,
   "id": "d607ffa2",
   "metadata": {},
   "outputs": [
    {
     "name": "stdout",
     "output_type": "stream",
     "text": [
      "[[0.72249599 0.94911539 0.53812218]\n",
      " [0.42295593 0.61221172 0.91645599]\n",
      " [0.07731303 0.23046747 0.90851944]]\n"
     ]
    }
   ],
   "source": [
    "#7. How can you generate a random 3x3 matrix with values between 0 and 1?\n",
    "\n",
    "random_matrix = np.random.rand(3, 3)\n",
    "print(random_matrix)\n"
   ]
  },
  {
   "cell_type": "markdown",
   "id": "36177264",
   "metadata": {},
   "source": [
    "#8. Describe the difference between np.random.rand and np.random.randn?\n",
    "\n",
    "np.random.rand: generates random values from a uniform distribution over the interval (0, 1)\n",
    "np.random.randn: Generates random values from a standard normal distribution (mean=0, standard deviation=1)."
   ]
  },
  {
   "cell_type": "code",
   "execution_count": 6,
   "id": "1c7b6060",
   "metadata": {},
   "outputs": [
    {
     "name": "stdout",
     "output_type": "stream",
     "text": [
      "Original array shape: (3, 4)\n",
      "New array shape: (1, 3, 4)\n"
     ]
    }
   ],
   "source": [
    "# 9. Write code to increase the dimension of the following array?\n",
    "\n",
    "arr = np.array([[1, 2, 3, 4],\n",
    "                [5, 6, 7, 8],\n",
    "                [9, 10, 11, 12]])\n",
    "\n",
    "new_arr = np.expand_dims(arr, axis=0)\n",
    "\n",
    "print(\"Original array shape:\", arr.shape)\n",
    "print(\"New array shape:\", new_arr.shape)"
   ]
  },
  {
   "cell_type": "code",
   "execution_count": 7,
   "id": "d49b0449",
   "metadata": {},
   "outputs": [
    {
     "name": "stdout",
     "output_type": "stream",
     "text": [
      "Original array: [[ 1  2  3  4]\n",
      " [ 5  6  7  8]\n",
      " [ 9 10 11 12]]\n",
      "\n",
      "Transposed array: [[ 1  5  9]\n",
      " [ 2  6 10]\n",
      " [ 3  7 11]\n",
      " [ 4  8 12]]\n"
     ]
    }
   ],
   "source": [
    "#10. How to transpose the following array in NumPy?\n",
    "\n",
    "arr = np.array([[1, 2, 3, 4],\n",
    "                [5, 6, 7, 8],\n",
    "                [9, 10, 11, 12]])\n",
    "\n",
    "# Transpose the array using .T attribute\n",
    "transposed_arr = arr.T\n",
    "\n",
    "print(\"Original array:\",arr)\n",
    "print(\"\\nTransposed array:\",transposed_arr)\n"
   ]
  },
  {
   "cell_type": "code",
   "execution_count": 8,
   "id": "6b131830",
   "metadata": {},
   "outputs": [
    {
     "name": "stdout",
     "output_type": "stream",
     "text": [
      "1. Index-wise multiplication:\n",
      " [[  1   4   9  16]\n",
      " [ 25  36  49  64]\n",
      " [ 81 100 121 144]]\n",
      "\n",
      "2. Matrix multiplication:\n",
      " [[ 30  70 110]\n",
      " [ 70 174 278]\n",
      " [110 278 446]]\n",
      "\n",
      "3. Addition:\n",
      " [[ 2  4  6  8]\n",
      " [10 12 14 16]\n",
      " [18 20 22 24]]\n",
      "\n",
      "4. Subtraction:\n",
      " [[0 0 0 0]\n",
      " [0 0 0 0]\n",
      " [0 0 0 0]]\n",
      "\n",
      "5. Division:\n",
      " [[1. 1. 1. 1.]\n",
      " [1. 1. 1. 1.]\n",
      " [1. 1. 1. 1.]]\n"
     ]
    }
   ],
   "source": [
    "import numpy as np\n",
    "\n",
    "A2 = np.array([[1, 2, 3, 4],\n",
    "               [5, 6, 7, 8],\n",
    "               [9, 10, 11, 12]])\n",
    "\n",
    "B2 = np.array([[1, 2, 3, 4],\n",
    "               [5, 6, 7, 8],\n",
    "               [9, 10, 11, 12]])\n",
    "\n",
    "# 1. Index-wise multiplication\n",
    "index_wise_multiplication = A2 * B2\n",
    "\n",
    "# 2. Matrix multiplication\n",
    "matrix_multiplication = np.dot(A2, B2.T)  # Using B2.T for matrix multiplication\n",
    "\n",
    "# 3. Add both matrices\n",
    "addition = A2 + B2\n",
    "\n",
    "# 4. Subtract matrix B from A\n",
    "subtraction = A2 - B2\n",
    "\n",
    "# 5. Divide Matrix B by A\n",
    "division = B2 / A2\n",
    "\n",
    "# Print the results\n",
    "print(\"1. Index-wise multiplication:\\n\", index_wise_multiplication)\n",
    "print(\"\\n2. Matrix multiplication:\\n\", matrix_multiplication)\n",
    "print(\"\\n3. Addition:\\n\", addition)\n",
    "print(\"\\n4. Subtraction:\\n\", subtraction)\n",
    "print(\"\\n5. Division:\\n\", division)"
   ]
  },
  {
   "cell_type": "markdown",
   "id": "4766b672",
   "metadata": {},
   "source": [
    "### 12.  Which function in Numpy can be used to swap the byte order of an array?\n",
    "\n",
    "function np.ndarray.byteswap() can be used to swap the byte order of an array in NumPy. \n"
   ]
  },
  {
   "cell_type": "markdown",
   "id": "cdb1f50b",
   "metadata": {},
   "source": [
    "### 13. What is the significance of the np.linalg.inv function?\n",
    "\n",
    "The np.linalg.inv function is used to compute the multiplicative inverse of a matrix. \n",
    "It's significant in linear algebra as it allows you to find the inverse of a square matrix, which is essential for solving systems of linear equations and other mathematical operations."
   ]
  },
  {
   "cell_type": "markdown",
   "id": "c06dd632",
   "metadata": {},
   "source": [
    "### 14. What does the np.reshape function do, and how is it used?\n",
    "\n",
    "The np.reshape function in NumPy is used to change the shape of an array without changing its data. \n",
    "It returns a new array with the specified shape. You can use it to reshape arrays into different dimensions."
   ]
  },
  {
   "cell_type": "markdown",
   "id": "a6c8f71b",
   "metadata": {},
   "source": [
    "### 15. What is broadcasting in Numpy?\n",
    "\n",
    "Broadcasting in NumPy is a powerful mechanism that allows NumPy to work with arrays of different shapes when performing arithmetic operations. When arrays with different shapes are involved in arithmetic operations, NumPy automatically broadcasts the smaller array to match the shape of the larger array, without making explicit copies of the data. This enables you to write vectorized code that operates on arrays of different shapes efficiently."
   ]
  },
  {
   "cell_type": "code",
   "execution_count": null,
   "id": "cee1582c",
   "metadata": {},
   "outputs": [],
   "source": []
  }
 ],
 "metadata": {
  "kernelspec": {
   "display_name": "Python 3 (ipykernel)",
   "language": "python",
   "name": "python3"
  },
  "language_info": {
   "codemirror_mode": {
    "name": "ipython",
    "version": 3
   },
   "file_extension": ".py",
   "mimetype": "text/x-python",
   "name": "python",
   "nbconvert_exporter": "python",
   "pygments_lexer": "ipython3",
   "version": "3.9.7"
  }
 },
 "nbformat": 4,
 "nbformat_minor": 5
}
